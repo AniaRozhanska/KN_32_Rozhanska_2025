{
 "cells": [
  {
   "cell_type": "markdown",
   "id": "af579c84",
   "metadata": {},
   "source": [
    "# Основні типи даних. Стрічкові дані str"
   ]
  },
  {
   "cell_type": "markdown",
   "id": "c13eab64",
   "metadata": {},
   "source": [
    "- Приклад завдання на лекції"
   ]
  },
  {
   "cell_type": "code",
   "execution_count": 2,
   "id": "04dd8bcf",
   "metadata": {},
   "outputs": [
    {
     "name": "stdout",
     "output_type": "stream",
     "text": [
      "<class 'str'> <class 'str'> <class 'str'> <class 'str'>\n",
      "<class 'int'> <class 'str'> <class 'int'>\n",
      "Hello, World! Python is fun! This is a multi-line\n",
      "string that spans  1234 12\n"
     ]
    }
   ],
   "source": [
    "s = \"Hello, World!\"\n",
    "s2 = 'Python is fun!'\n",
    "s3 = \"\"\"This is a multi-line\n",
    "string that spans\"\"\"\n",
    "s4 = \"\"\n",
    "n = 1234  # Integer\n",
    "s5 = str(n)  # Convert integer to string\n",
    "s6: str = 12\n",
    "\n",
    "print(type(s), type(s2), type(s3), type(s4)) \n",
    "print(type(n), type(s5), type(s6))\n",
    "print(s, s2, s3, s4, s5, s6)"
   ]
  },
  {
   "cell_type": "markdown",
   "id": "42cccf82",
   "metadata": {},
   "source": [
    "- Мій приклад використання"
   ]
  },
  {
   "cell_type": "code",
   "execution_count": 3,
   "id": "47b7e890",
   "metadata": {},
   "outputs": [
    {
     "name": "stdout",
     "output_type": "stream",
     "text": [
      "<class 'str'> <class 'str'> <class 'str'> <class 'str'> <class 'str'>\n",
      "<class 'int'> <class 'str'> <class 'int'>\n",
      "Hi! My name is Anna. I love programming. Let's learn Python together.  42 4\n"
     ]
    }
   ],
   "source": [
    "a = \"Hi!\"\n",
    "a1 = \"My name is Anna.\"\n",
    "a2 = \"I love programming.\"\n",
    "a3 = \"Let's learn Python together.\"\n",
    "a4 = \"\"\n",
    "b = 42\n",
    "a5 = str(b)\n",
    "a6: str = 4\n",
    "\n",
    "print(type(a), type(a1), type(a2), type(a3), type(a4)) \n",
    "print(type(b), type(a5), type(a6))\n",
    "print(a, a1, a2, a3, a4, a5, a6)        "
   ]
  },
  {
   "cell_type": "markdown",
   "id": "4c84fbec",
   "metadata": {},
   "source": [
    "# до обєктів можна застосовувати методи"
   ]
  },
  {
   "cell_type": "code",
   "execution_count": 12,
   "id": "8bc43213",
   "metadata": {},
   "outputs": [
    {
     "data": {
      "text/plain": [
       "['H', 'i', '!']"
      ]
     },
     "execution_count": 12,
     "metadata": {},
     "output_type": "execute_result"
    }
   ],
   "source": [
    "s.count('l')\n",
    "s.split()\n",
    "\n",
    "list(a)"
   ]
  },
  {
   "cell_type": "markdown",
   "id": "6e25aa31",
   "metadata": {},
   "source": [
    "# до стрічок можна застосовувати слайси"
   ]
  },
  {
   "cell_type": "code",
   "execution_count": 9,
   "id": "4b4dcfb6",
   "metadata": {},
   "outputs": [
    {
     "name": "stdout",
     "output_type": "stream",
     "text": [
      "H W Wor\n",
      "is is\n",
      "-> 1\n",
      "-> 2\n",
      "-> 3\n",
      "-> 4\n"
     ]
    }
   ],
   "source": [
    "print(s[0], s[7], s[-6:10])\n",
    "print(s2[7:9], s2.split()[1])\n",
    "for char in s5:\n",
    "    print(\"->\", char)"
   ]
  },
  {
   "cell_type": "markdown",
   "id": "eb57fbbd",
   "metadata": {},
   "source": [
    "- мій приклад"
   ]
  },
  {
   "cell_type": "code",
   "execution_count": 10,
   "id": "cb63fb1d",
   "metadata": {},
   "outputs": [
    {
     "name": "stdout",
     "output_type": "stream",
     "text": [
      "H na l\n",
      "Python \n",
      "-> 4\n",
      "-> 2\n"
     ]
    }
   ],
   "source": [
    "print(a[0], a1[3:5], a2[2])\n",
    "print(a3.split()[2], a4)\n",
    "for char in a5:\n",
    "    print(\"->\", char)   "
   ]
  },
  {
   "cell_type": "markdown",
   "id": "8f7e559e",
   "metadata": {},
   "source": [
    "# Арифметичні операції з стрічками\n",
    "- довавання двох стрічкох називається конкатенація і це просто їх зчеплення\n",
    "- віднімати не можна, все поломається\n",
    "- множення: слова на слово множити не можна, але можна множити слово на цифру\n",
    "ділення: помилка\n",
    "- арифметичні дії можливі, тому що стрічки є обєктами і там прописані спеціальні методи"
   ]
  },
  {
   "cell_type": "code",
   "execution_count": 16,
   "id": "d54455ee",
   "metadata": {},
   "outputs": [
    {
     "name": "stdout",
     "output_type": "stream",
     "text": [
      "Слово, інше слово\n",
      "<^><^><^><^><^><^><^><^><^><^>\n",
      "Гарний вивід тексту\n",
      "<_><_><_><_><_><_><_><_><_><_>\n",
      "Словоінше слово Це те саме що:  Словоінше слово\n"
     ]
    },
    {
     "data": {
      "text/plain": [
       "False"
      ]
     },
     "execution_count": 16,
     "metadata": {},
     "output_type": "execute_result"
    }
   ],
   "source": [
    "c1 = \"Слово\"\n",
    "c2 = \"інше слово\"\n",
    "c3 = c1 + \", \" + c2\n",
    "print(c3)\n",
    "# c3 = c1 - c2 # TypeError: unsupported operand type(s) for -: 'str' and 'str'\n",
    "print(10*\"<^>\" + \"\\n\" + \"Гарний вивід тексту\\n\" + 10*\"<_>\")\n",
    "print(c1.__add__(c2), \"Це те саме що: \", c1 + c2)\n",
    "c1.__eq__(c2)"
   ]
  },
  {
   "cell_type": "markdown",
   "id": "8dd7acc2",
   "metadata": {},
   "source": [
    "- мій приклад "
   ]
  },
  {
   "cell_type": "code",
   "execution_count": 20,
   "id": "24fba964",
   "metadata": {},
   "outputs": [
    {
     "name": "stdout",
     "output_type": "stream",
     "text": [
      "погода сьогодні гарна, завтра буде дощ\n",
      "<><><><><>\n",
      "Кінець програми\n",
      "<><><><><>\n",
      "погода сьогодні гарназавтра буде дощ Це те саме що:  погода сьогодні гарназавтра буде дощ\n"
     ]
    },
    {
     "data": {
      "text/plain": [
       "False"
      ]
     },
     "execution_count": 20,
     "metadata": {},
     "output_type": "execute_result"
    }
   ],
   "source": [
    "d =\"погода сьогодні гарна\"\n",
    "d1 = \"завтра буде дощ\"\n",
    "d2 = d + \", \" + d1\n",
    "print(d2)\n",
    "\n",
    "print(5*\"<>\" + \"\\n\" + \"Кінець програми\\n\" + 5*\"<>\")\n",
    "print(d.__add__(d1), \"Це те саме що: \", d + d1)\n",
    "d.__eq__(d1)"
   ]
  },
  {
   "cell_type": "markdown",
   "id": "a3a64275",
   "metadata": {},
   "source": [
    "# Числові типи даних\n",
    "- цілі числі та з полаваючою крапкою\n",
    "- можемо виконувати всі арифметичні операції та деякі цікаві дії-\n",
    "- В Python оператор // — це оператор цілочисельного ділення (floor division). Він ділить одне- число на інше і повертає цілу частину результату, відкидаючи дробову частину. 7 // 3 поверне 2- (бо 7 / 3 = 2.333..., а // залишає тільки 2) В Python оператор % — це оператор остачі від- ділення (modulo). Він повертає залишок після ділення одного числа на інше. 7 % 3 поверне 1 (бо 7- = 2 * 3 + 1, залишок — 1)-\n",
    "- над числами можна виконувати логічні операції"
   ]
  },
  {
   "cell_type": "code",
   "execution_count": 23,
   "id": "6d6cad1d",
   "metadata": {},
   "outputs": [
    {
     "name": "stdout",
     "output_type": "stream",
     "text": [
      "<class 'int'> <class 'float'> Чи ці два числі будуть рівними:  True False\n",
      "11 0 1 Піднесення в степінь:  4\n"
     ]
    }
   ],
   "source": [
    "i = 1\n",
    "f = 1.0\n",
    "print(type(i), type(f), \"Чи ці два числі будуть рівними: \", i == f, i is f)\n",
    "o = 1 + 4j\n",
    "type(o)\n",
    "\n",
    "a = i + 2\n",
    "i = i + 5\n",
    "i += 5 # інкремент\n",
    "print(i, 1//2, 1%2, \"Піднесення в степінь: \", 2**2)"
   ]
  },
  {
   "cell_type": "markdown",
   "id": "8495f432",
   "metadata": {},
   "source": [
    "- мій приклад "
   ]
  },
  {
   "cell_type": "code",
   "execution_count": 28,
   "id": "62f748c4",
   "metadata": {},
   "outputs": [
    {
     "name": "stdout",
     "output_type": "stream",
     "text": [
      "<class 'int'> <class 'float'> Чи ці два числі будуть рівними:  False False\n",
      "8 2 1 Піднесення в степінь:  27\n"
     ]
    }
   ],
   "source": [
    "h = 3\n",
    "g = 4.5\n",
    "print(type(h), type(g), \"Чи ці два числі будуть рівними: \", h == g, h is g)\n",
    "\n",
    "h = h + 1\n",
    "h *= 2\n",
    "print(h, 7//3, 7%3, \"Піднесення в степінь: \", 3**3) \n"
   ]
  },
  {
   "cell_type": "code",
   "execution_count": 29,
   "id": "850dfc8a",
   "metadata": {},
   "outputs": [
    {
     "name": "stdout",
     "output_type": "stream",
     "text": [
      "0 1 False -2\n"
     ]
    }
   ],
   "source": [
    "k = 1 & 1 & 0 and 1\n",
    "m = 1 | 0 | 1 or 0\n",
    "\n",
    "print(k, m, not True, ~1)"
   ]
  },
  {
   "cell_type": "markdown",
   "id": "7eb7e818",
   "metadata": {},
   "source": [
    "# Колекції\n",
    "- колекціями називаються типи які можуть в собі мати інші типи даних, або їх набори\n",
    "- list - впорядковані змінні набори даних"
   ]
  },
  {
   "cell_type": "code",
   "execution_count": 30,
   "id": "39c0a42f",
   "metadata": {},
   "outputs": [
    {
     "name": "stdout",
     "output_type": "stream",
     "text": [
      "Це ми хочемо вивести по індексу <class 'list'>\n",
      "[1, '1', 1.0, [1, 2, 'Це ми хочемо вивести по індексу'], 0] \n",
      " Це ми хочемо вивести по індексу\n",
      "[['Нуль', 0], '1', 1.0, [1, 2, 'Це ми хочемо вивести по індексу'], 0]\n"
     ]
    }
   ],
   "source": [
    "l = [1, \"1\", \"один\", 1.0, [1, 2, \"Це ми хочемо вивести по індексу\"], 0]\n",
    "print(l[4][2], type(l))\n",
    "l.append(\"Новий елемент\")\n",
    "l.remove(\"один\")\n",
    "l.pop()\n",
    "print(l, \"\\n\", l[3][2])\n",
    "l[0] = [\"Нуль\", 0]\n",
    "print(l)\n"
   ]
  },
  {
   "cell_type": "markdown",
   "id": "d566c601",
   "metadata": {},
   "source": [
    "- мій приклад "
   ]
  },
  {
   "cell_type": "code",
   "execution_count": 36,
   "id": "94dfaf90",
   "metadata": {},
   "outputs": [
    {
     "name": "stdout",
     "output_type": "stream",
     "text": [
      "Це ми хочемо вивести по індексу <class 'list'>\n",
      "[1, '2', 3.0, [3, 4, 'Це ми хочемо вивести по індексу'], 0] \n",
      " Це ми хочемо вивести по індексу\n",
      "[['Нуль', 0], '2', 3.0, [3, 4, 'Це ми хочемо вивести по індексу'], 0]\n"
     ]
    }
   ],
   "source": [
    "k =[1, \"2\", \"три\", 3.0, [3, 4, \"Це ми хочемо вивести по індексу\"], 0]\n",
    "print(k[4][2], type(k))\n",
    "k.append(\"Новий елемент\")\n",
    "k.remove(\"три\")\n",
    "k.pop()\n",
    "print(k, \"\\n\", k[3][2])\n",
    "k[0] = [\"Нуль\", 0]\n",
    "print(k)"
   ]
  },
  {
   "cell_type": "code",
   "execution_count": 39,
   "id": "ca60992a",
   "metadata": {},
   "outputs": [
    {
     "name": "stdout",
     "output_type": "stream",
     "text": [
      "[1, 5, 8, 0] [0, 8, 5, 1]\n",
      "ротор = ротор - це поліндром\n",
      "тест = тсет - це не поліндром\n",
      "козак = казок - це не поліндром\n",
      "мадам = мадам - це поліндром\n",
      "python = nohtyp - це не поліндром\n",
      "анна = анна - це поліндром\n",
      "123321 = 123321 - це поліндром\n"
     ]
    }
   ],
   "source": [
    "rv = [1, 5, 8, 0]\n",
    "rl = rv[::-1]\n",
    "print(rv, rl)\n",
    "\n",
    "# задача на знаходження поліндромів\n",
    "words = [\"ротор\", \"тест\", \"козак\", \"мадам\", \"python\", \"анна\", \"123321\"]\n",
    "for w in words:\n",
    "    w1 = w\n",
    "    w2 = w[::-1]\n",
    "    if w1 == w2:\n",
    "        print(f\"{w1} = {w2} - це поліндром\")\n",
    "    else:\n",
    "        print(f\"{w1} = {w2} - це не поліндром\")\n"
   ]
  },
  {
   "cell_type": "markdown",
   "id": "ab91d37f",
   "metadata": {},
   "source": [
    "- мій приклад "
   ]
  },
  {
   "cell_type": "code",
   "execution_count": 49,
   "id": "a44ed91b",
   "metadata": {},
   "outputs": [
    {
     "name": "stdout",
     "output_type": "stream",
     "text": [
      "[1, 2, 3, 4, 5] [5, 4, 3, 2, 1]\n",
      "око = око - це поліндром\n",
      "рівень = ьневір - це не поліндром\n",
      "тато = отат - це не поліндром\n",
      "дід = дід - це поліндром\n",
      "ротатор = ротатор - це поліндром\n",
      "комок = комок - це поліндром\n",
      "машина = анишам - це не поліндром\n",
      "баба = абаб - це не поліндром\n"
     ]
    }
   ],
   "source": [
    "ww = [1, 2, 3, 4, 5]\n",
    "wr = ww[::-1]\n",
    "print(ww, wr)\n",
    "\n",
    "f = [\"око\", \"рівень\", \"тато\", \"дід\", \"ротатор\", \"комок\", \"машина\", \"баба\"]\n",
    "for w in f:\n",
    "    w1 = w\n",
    "    w2 = w[::-1]\n",
    "    if w1 == w2:\n",
    "        print(f\"{w1} = {w2} - це поліндром\")\n",
    "    else:\n",
    "        print(f\"{w1} = {w2} - це не поліндром\")\n",
    "\n"
   ]
  },
  {
   "cell_type": "code",
   "execution_count": 50,
   "id": "6dff04ce",
   "metadata": {},
   "outputs": [
    {
     "name": "stdout",
     "output_type": "stream",
     "text": [
      "Ц у стрічка слайсингу\n"
     ]
    }
   ],
   "source": [
    "s = 'Це стрічка для слайсингу'\n",
    "\n",
    "print(s[0], s[-1], s[3:10], s[-9:])"
   ]
  },
  {
   "cell_type": "markdown",
   "id": "f503a377",
   "metadata": {},
   "source": [
    "- мій приклад "
   ]
  },
  {
   "cell_type": "code",
   "execution_count": 54,
   "id": "dadee47a",
   "metadata": {},
   "outputs": [
    {
     "name": "stdout",
     "output_type": "stream",
     "text": [
      "С го в\n"
     ]
    }
   ],
   "source": [
    "a = 'Сьогодні вівторок'\n",
    "print(a[0], a[3:5], a[-8])"
   ]
  },
  {
   "cell_type": "markdown",
   "id": "b7822345",
   "metadata": {},
   "source": [
    "- другий тип - tuples - впорядкована колекція незмінних (immutable) елементів"
   ]
  },
  {
   "cell_type": "code",
   "execution_count": 61,
   "id": "663b8182",
   "metadata": {},
   "outputs": [
    {
     "name": "stdout",
     "output_type": "stream",
     "text": [
      "3\n",
      "[1, 2, 3, 'test', [1, 2, 3], (4, 5, 6), 'Новий елемент']\n",
      "елемент\n"
     ]
    }
   ],
   "source": [
    "t = (1, 2, 3, \"test\", [1, 2, 3], (4, 5, 6))\n",
    "print(t.index(\"test\"))\n",
    "\n",
    "l = list(t)\n",
    "l.append(\"Новий елемент\")\n",
    "print(l)\n",
    "t = tuple(l)\n",
    "print(t[-1][-7:])\n"
   ]
  },
  {
   "cell_type": "markdown",
   "id": "dc5f858d",
   "metadata": {},
   "source": [
    "- мій приклад "
   ]
  },
  {
   "cell_type": "code",
   "execution_count": 71,
   "id": "3d1dfe62",
   "metadata": {},
   "outputs": [
    {
     "name": "stdout",
     "output_type": "stream",
     "text": [
      "1\n",
      "[4, 'сім', [7, 8, 9], (10, 11, 12), 'Новий елемент']\n",
      "(4, 'сім', [7, 8, 9], (10, 11, 12), 'Новий елемент')\n",
      "Новий елемент\n"
     ]
    }
   ],
   "source": [
    "r = (4, \"сім\", [7,8,9], (10,11,12))\n",
    "print(r.index(\"сім\"))\n",
    "\n",
    "\n",
    "l = list(r)\n",
    "l.append(\"Новий елемент\")\n",
    "print(l)\n",
    "r = tuple(l)\n",
    "print(r)\n",
    "print(r[-1])"
   ]
  },
  {
   "cell_type": "markdown",
   "id": "11ad32c3",
   "metadata": {},
   "source": [
    "# Набори даних \n",
    "- set - це колекія унікальних не повторюваних даних, однак вони є невпорядковані"
   ]
  },
  {
   "cell_type": "code",
   "execution_count": 77,
   "id": "ab46a9f9",
   "metadata": {},
   "outputs": [
    {
     "name": "stdout",
     "output_type": "stream",
     "text": [
      "{0, 1, 2, 3, 4, 'four', '0'}\n",
      "0\n",
      "{1, 2, 3, 4, 'four', '0'}\n"
     ]
    }
   ],
   "source": [
    "s = {0, \"0\", False, 0.0, 0, 1, True, 4, \"four\", 4, 2, 3, 2}\n",
    "print(s)\n",
    "print(s.pop())\n",
    "print(s)  "
   ]
  },
  {
   "cell_type": "markdown",
   "id": "7736d462",
   "metadata": {},
   "source": [
    "- мій приклад"
   ]
  },
  {
   "cell_type": "code",
   "execution_count": 80,
   "id": "d538d5d7",
   "metadata": {},
   "outputs": [
    {
     "name": "stdout",
     "output_type": "stream",
     "text": [
      "{1, 2, 3, 'Новий елемент', '9', 'True'}\n",
      "1\n",
      "{2, 3, 'Новий елемент', '9', 'True'}\n"
     ]
    }
   ],
   "source": [
    "a = {1, 2, 3, \"9\", \"True\", \"Новий елемент\", 2, 3, 1}\n",
    "print(a)\n",
    "print(a.pop())\n",
    "print(a)\n"
   ]
  },
  {
   "cell_type": "markdown",
   "id": "66c2b147",
   "metadata": {},
   "source": [
    "- знайти повторювані елементи в заданій колекції"
   ]
  },
  {
   "cell_type": "code",
   "execution_count": 81,
   "id": "7c70a7ee",
   "metadata": {},
   "outputs": [
    {
     "name": "stdout",
     "output_type": "stream",
     "text": [
      "Повторювані елементи: {1, 2, 3, 5}\n",
      "Повторювані елементи: {1, 2, 3, 5}\n",
      "True\n"
     ]
    }
   ],
   "source": [
    "test_collection = [1, 2, 3, 4, 5, 1, 2, 3, 6, 7, 8, 9, 5]\n",
    "unique_items = set()\n",
    "duplicates = set()\n",
    "for item in test_collection:\n",
    "    if item in unique_items:\n",
    "        duplicates.add(item)\n",
    "    else:\n",
    "        unique_items.add(item)\n",
    "print(\"Повторювані елементи:\", duplicates)\n",
    "\n",
    "duplicates = set([x for x in test_collection if test_collection.count(x) > 1])\n",
    "print(\"Повторювані елементи:\", duplicates)\n",
    "print(1 in test_collection)\n"
   ]
  },
  {
   "cell_type": "markdown",
   "id": "11a61738",
   "metadata": {},
   "source": [
    "# Cловники\n",
    "- dict - це набори даних які сладаються з пари key: value \n",
    "- в словнику - всі ключі мають бути унікальними"
   ]
  },
  {
   "cell_type": "code",
   "execution_count": 82,
   "id": "8a990d18",
   "metadata": {},
   "outputs": [
    {
     "name": "stdout",
     "output_type": "stream",
     "text": [
      "one\n",
      "one 1 1 Останній\n",
      "0 one\n",
      "1 Останній\n"
     ]
    }
   ],
   "source": [
    "l = [\"one\", \"two\", \"three\"]\n",
    "print(l[0])\n",
    "one = \"один\"\n",
    "two = True\n",
    "d = {0: \"one\", 1: \"two\", 2: \"three\", one: 1, True: \"Правда\", 1: \"Останній\"}\n",
    "print(d[0], d[\"один\"], d[one], d[two])\n",
    "\n",
    "for i in range(0,2):\n",
    "    print(i, d[i])"
   ]
  },
  {
   "cell_type": "markdown",
   "id": "84ef6547",
   "metadata": {},
   "source": [
    "# Мій приклад"
   ]
  },
  {
   "cell_type": "code",
   "execution_count": 84,
   "id": "457ce9c3",
   "metadata": {},
   "outputs": [
    {
     "name": "stdout",
     "output_type": "stream",
     "text": [
      "hello\n",
      "hello world\n"
     ]
    }
   ],
   "source": [
    "a = [\"hello\", \"world\"]\n",
    "print(a[0])\n",
    "one = \"привіт\"\n",
    "two = \"True\"\n",
    "s = {one: \"hello\", two: \"world\"}\n",
    "print(s[one], s[two])\n"
   ]
  },
  {
   "cell_type": "markdown",
   "id": "75e34993",
   "metadata": {},
   "source": [
    "# Завдання \n",
    "- попрактикуватись з словниками та вибрати всі ключі \n",
    "- приклад АПІ азпиту та його відповідь \n",
    "- JSON - це тип файлів який зберігає дані у структурованому вигляді"
   ]
  },
  {
   "cell_type": "code",
   "execution_count": 85,
   "id": "29a0c2fe",
   "metadata": {},
   "outputs": [
    {
     "name": "stdout",
     "output_type": "stream",
     "text": [
      "0\n",
      "1\n",
      "2\n",
      "один\n",
      "YouTube\n",
      "Сервер повернув: status\n",
      "Сервер повернув: httpStatus\n",
      "Сервер повернув: totalResults\n",
      "Сервер повернув: articles\n"
     ]
    }
   ],
   "source": [
    "for k in d.keys():\n",
    "    print(k)\n",
    "\n",
    "responce = {\n",
    "    \"status\": \"ok\",\n",
    "    \"httpStatus\": 200,\n",
    "    \"totalResults\": 38,\n",
    "    \"articles\": [\n",
    "        {\n",
    "            \"source\": {\"id\": None, \"name\": \"YouTube\"},\n",
    "            \"author\": \"IT-KAMASUTRA\",\n",
    "            \"title\": \"Python для початківців. Урок 1. Вступ\",\n",
    "            \"description\": \"Перший урок з курсу Python для початківців. В цьому уроці ми розглянемо основи мови Python, встановлення середовища розробки та створення першої програми. Підписуйтесь на канал, щоб не пропустити наступні уроки! #Python #Програмування #ITKamasutra\",\n",
    "            \"url\": \"https://www.youtube.com/watch?v=rfscVS0vtbw\",\n",
    "        }\n",
    "    ]\n",
    "}\n",
    "\n",
    "print(responce[\"articles\"][0][\"source\"][\"name\"])\n",
    "for k in responce.keys():\n",
    "    print(f\"Сервер повернув: {k}\")\n",
    "\n",
    "import json\n",
    "\n",
    "json_data = json.dumps(responce, ensure_ascii=False, indent=4)\n",
    "f = open(\"responce.json\", \"w\", encoding=\"utf-8\")\n",
    "f.write(json_data)\n",
    "f.close()"
   ]
  },
  {
   "cell_type": "markdown",
   "id": "0f3a4bb5",
   "metadata": {},
   "source": [
    "- Мій приклад "
   ]
  },
  {
   "cell_type": "code",
   "execution_count": 90,
   "id": "8d8c7feb",
   "metadata": {},
   "outputs": [
    {
     "name": "stdout",
     "output_type": "stream",
     "text": [
      "привіт\n",
      "YouTube\n",
      "Сервер повернув: status\n",
      "Сервер повернув: httpStatus\n",
      "Сервер повернув: totalResults\n",
      "Сервер повернув: articles\n",
      "True\n",
      "YouTube\n",
      "Сервер повернув: status\n",
      "Сервер повернув: httpStatus\n",
      "Сервер повернув: totalResults\n",
      "Сервер повернув: articles\n"
     ]
    }
   ],
   "source": [
    "for a in s.keys():\n",
    "    print(a)\n",
    "    responce = {\n",
    "        \"status\": \"ok\",\n",
    "        \"httpStatus\": 100,\n",
    "        \"totalResults\": 44,\n",
    "        \"articles\": [\n",
    "            {\n",
    "                \"source\": {\"id\": None, \"weather\": \"YouTube\"},\n",
    "                \"author\": \"IT-KAMASUTRA\",\n",
    "                \"title\": \"Weather today will be sunny\",\n",
    "                \"description\": \"Сьогодні погода буде сонячною. Не забудьте взяти сонцезахисний крем!\",\n",
    "                \"url\": \"https://www.youtube.com/watch?v=rfscVS0vtbw\",\n",
    "            }\n",
    "        ]\n",
    "    }\n",
    "\n",
    "\n",
    "    print(responce[\"articles\"][0][\"source\"][\"weather\"])\n",
    "    for k in responce.keys():\n",
    "        print(f\"Сервер повернув: {k}\")\n",
    "import json\n",
    "json_data = json.dumps(responce, ensure_ascii=False, indent=4)\n",
    "f = open(\"weather_responce.json\", \"w\", encoding=\"utf-8\")\n",
    "f.write(json_data)\n",
    "f.close()\n",
    "\n"
   ]
  },
  {
   "cell_type": "markdown",
   "id": "b7723e5b",
   "metadata": {},
   "source": [
    "# Вбудовані змінні, функції та зарезервовані слова \n",
    "- вбудовані змінні неможна переприсвоювати - це буде помилка SyntaxError: cannot assign to True\n",
    "- None - особлива змінні яка означає ніщо і нею зазвичай ініціалізують змінні"
   ]
  },
  {
   "cell_type": "code",
   "execution_count": 92,
   "id": "cb94d04c",
   "metadata": {},
   "outputs": [
    {
     "name": "stdout",
     "output_type": "stream",
     "text": [
      "None\n",
      "5\n",
      "None\n"
     ]
    }
   ],
   "source": [
    "#non_exist_value = 0 # False\n",
    "#non_exist_value = None\n",
    "non_exist_value = None\n",
    "print(non_exist_value)\n",
    "non_exist_value = 5\n",
    "print(non_exist_value)\n",
    "\n",
    "def f():\n",
    "    pass\n",
    "print(f())\n"
   ]
  },
  {
   "cell_type": "markdown",
   "id": "890bc9d0",
   "metadata": {},
   "source": [
    "- зарезервовані слова не можу ть бути використаними як змінні (SyntaxError: invalid syntax)"
   ]
  },
  {
   "cell_type": "code",
   "execution_count": 93,
   "id": "b2c180a5",
   "metadata": {},
   "outputs": [
    {
     "name": "stdout",
     "output_type": "stream",
     "text": [
      "\n",
      "Here is a list of the Python keywords.  Enter any keyword to get more help.\n",
      "\n",
      "False               class               from                or\n",
      "None                continue            global              pass\n",
      "True                def                 if                  raise\n",
      "and                 del                 import              return\n",
      "as                  elif                in                  try\n",
      "assert              else                is                  while\n",
      "async               except              lambda              with\n",
      "await               finally             nonlocal            yield\n",
      "break               for                 not                 \n",
      "\n"
     ]
    }
   ],
   "source": [
    "#import = 1\n",
    "#global = 1\n",
    "help(\"keywords\")"
   ]
  },
  {
   "cell_type": "markdown",
   "id": "38d12f37",
   "metadata": {},
   "source": [
    "- приклад використання вбудованої функції map як заміни циклу"
   ]
  },
  {
   "cell_type": "code",
   "execution_count": 94,
   "id": "589c5ac9",
   "metadata": {},
   "outputs": [
    {
     "name": "stdout",
     "output_type": "stream",
     "text": [
      "one\n",
      "two\n",
      "three\n",
      "one\n",
      "two\n",
      "three\n"
     ]
    },
    {
     "data": {
      "text/plain": [
       "[None, None, None]"
      ]
     },
     "execution_count": 94,
     "metadata": {},
     "output_type": "execute_result"
    }
   ],
   "source": [
    "for i in [\"one\", \"two\", \"three\"]:\n",
    "    print(i)\n",
    "\n",
    "list(map(print, [\"one\", \"two\", \"three\"]))\n"
   ]
  },
  {
   "cell_type": "markdown",
   "id": "d8227d58",
   "metadata": {},
   "source": [
    "- виведення вбудованих констант Ellipsis, NotImplemented"
   ]
  },
  {
   "cell_type": "code",
   "execution_count": 96,
   "id": "7a400b43",
   "metadata": {},
   "outputs": [
    {
     "name": "stdout",
     "output_type": "stream",
     "text": [
      "Перша вбудована константа: Ellipsis\n",
      "Як можна так використовувати NotImplemented у коді\n",
      "\n",
      "Here is a list of the Python keywords.  Enter any keyword to get more help.\n",
      "\n",
      "False               class               from                or\n",
      "None                continue            global              pass\n",
      "True                def                 if                  raise\n",
      "and                 del                 import              return\n",
      "as                  elif                in                  try\n",
      "assert              else                is                  while\n",
      "async               except              lambda              with\n",
      "await               finally             nonlocal            yield\n",
      "break               for                 not                 \n",
      "\n"
     ]
    }
   ],
   "source": [
    "print(\"Перша вбудована константа:\", Ellipsis)\n",
    "print(f\"Як можна так використовувати {NotImplemented} у коді\")\n",
    "import sys \n",
    "help(\"keywords\")\n"
   ]
  },
  {
   "cell_type": "code",
   "execution_count": 97,
   "id": "9e77ed18",
   "metadata": {},
   "outputs": [
    {
     "name": "stdout",
     "output_type": "stream",
     "text": [
      "Друга вбудована константа: NotImplemented\n",
      "Як можна так використовувати NotImplemented у коді\n"
     ]
    }
   ],
   "source": [
    "print(\"Друга вбудована константа:\", NotImplemented)\n",
    "print(f\"Як можна так використовувати {NotImplemented} у коді\")\n"
   ]
  },
  {
   "cell_type": "markdown",
   "id": "84eff8d2",
   "metadata": {},
   "source": [
    "- вивести результат роботи вбудованих функцій zip,pow"
   ]
  },
  {
   "cell_type": "code",
   "execution_count": 99,
   "id": "a9c1b074",
   "metadata": {},
   "outputs": [
    {
     "name": "stdout",
     "output_type": "stream",
     "text": [
      "(1, 'Микола')\n",
      "(2, 'Павло')\n",
      "(3, 'Дмитро')\n"
     ]
    }
   ],
   "source": [
    "for i in zip([1, 2, 3], ['Микола', 'Павло', 'Дмитро']):\n",
    "    print(i)"
   ]
  },
  {
   "cell_type": "code",
   "execution_count": 105,
   "id": "7e97af5e",
   "metadata": {},
   "outputs": [
    {
     "data": {
      "text/plain": [
       "False"
      ]
     },
     "execution_count": 105,
     "metadata": {},
     "output_type": "execute_result"
    }
   ],
   "source": [
    "pow(23, -1, mod=88)\n",
    "\n",
    "23 * 38 % 88 == 1"
   ]
  },
  {
   "cell_type": "markdown",
   "id": "3031c895",
   "metadata": {},
   "source": [
    "# Цикли \n",
    "- є всього 2 цикли, for i while\n",
    "# Завданя \n",
    "- симулюємо витягування M&ds з пачки, в якій 100 штучок, і рахуємо скільки у нас буде червоних"
   ]
  },
  {
   "cell_type": "code",
   "execution_count": 106,
   "id": "1403c75b",
   "metadata": {},
   "outputs": [
    {
     "name": "stdout",
     "output_type": "stream",
     "text": [
      "0. Ми витягнули коричневий M&Ms\n",
      "1. Ми витягнули помаранчевий M&Ms\n",
      "2. Ми витягнули помаранчевий M&Ms\n",
      "3. Ми витягнули помаранчевий M&Ms\n",
      "4. Ми витягнули помаранчевий M&Ms\n",
      "5. Ми витягнули червоний M&Ms\n",
      "Ура! Нам пощастило!\n",
      "6. Ми витягнули зелений M&Ms\n",
      "7. Ми витягнули зелений M&Ms\n",
      "8. Ми витягнули помаранчевий M&Ms\n",
      "9. Ми витягнули коричневий M&Ms\n",
      "10. Ми витягнули жовтий M&Ms\n",
      "11. Ми витягнули синій M&Ms\n",
      "12. Ми витягнули синій M&Ms\n",
      "13. Ми витягнули синій M&Ms\n",
      "14. Ми витягнули зелений M&Ms\n",
      "15. Ми витягнули червоний M&Ms\n",
      "Ура! Нам пощастило!\n",
      "16. Ми витягнули червоний M&Ms\n",
      "Ура! Нам пощастило!\n",
      "17. Ми витягнули помаранчевий M&Ms\n",
      "18. Ми витягнули синій M&Ms\n",
      "19. Ми витягнули коричневий M&Ms\n",
      "20. Ми витягнули жовтий M&Ms\n",
      "21. Ми витягнули зелений M&Ms\n",
      "22. Ми витягнули зелений M&Ms\n",
      "23. Ми витягнули помаранчевий M&Ms\n",
      "24. Ми витягнули помаранчевий M&Ms\n",
      "25. Ми витягнули помаранчевий M&Ms\n",
      "26. Ми витягнули червоний M&Ms\n",
      "Ура! Нам пощастило!\n",
      "27. Ми витягнули червоний M&Ms\n",
      "Ура! Нам пощастило!\n",
      "28. Ми витягнули жовтий M&Ms\n",
      "29. Ми витягнули жовтий M&Ms\n",
      "30. Ми витягнули помаранчевий M&Ms\n",
      "31. Ми витягнули помаранчевий M&Ms\n",
      "32. Ми витягнули зелений M&Ms\n",
      "33. Ми витягнули зелений M&Ms\n",
      "34. Ми витягнули синій M&Ms\n",
      "35. Ми витягнули коричневий M&Ms\n",
      "36. Ми витягнули зелений M&Ms\n",
      "37. Ми витягнули коричневий M&Ms\n",
      "38. Ми витягнули червоний M&Ms\n",
      "Ура! Нам пощастило!\n",
      "39. Ми витягнули зелений M&Ms\n",
      "40. Ми витягнули помаранчевий M&Ms\n",
      "41. Ми витягнули синій M&Ms\n",
      "42. Ми витягнули коричневий M&Ms\n",
      "43. Ми витягнули синій M&Ms\n",
      "44. Ми витягнули помаранчевий M&Ms\n",
      "45. Ми витягнули синій M&Ms\n",
      "46. Ми витягнули червоний M&Ms\n",
      "Ура! Нам пощастило!\n",
      "47. Ми витягнули синій M&Ms\n",
      "48. Ми витягнули коричневий M&Ms\n",
      "49. Ми витягнули коричневий M&Ms\n",
      "50. Ми витягнули червоний M&Ms\n",
      "Ура! Нам пощастило!\n",
      "51. Ми витягнули синій M&Ms\n",
      "52. Ми витягнули коричневий M&Ms\n",
      "53. Ми витягнули синій M&Ms\n",
      "54. Ми витягнули червоний M&Ms\n",
      "Ура! Нам пощастило!\n",
      "55. Ми витягнули червоний M&Ms\n",
      "Ура! Нам пощастило!\n",
      "56. Ми витягнули синій M&Ms\n",
      "57. Ми витягнули зелений M&Ms\n",
      "58. Ми витягнули жовтий M&Ms\n",
      "59. Ми витягнули жовтий M&Ms\n",
      "60. Ми витягнули коричневий M&Ms\n",
      "61. Ми витягнули синій M&Ms\n",
      "62. Ми витягнули червоний M&Ms\n",
      "Ура! Нам пощастило!\n",
      "63. Ми витягнули помаранчевий M&Ms\n",
      "64. Ми витягнули зелений M&Ms\n",
      "65. Ми витягнули жовтий M&Ms\n",
      "66. Ми витягнули синій M&Ms\n",
      "67. Ми витягнули синій M&Ms\n",
      "68. Ми витягнули коричневий M&Ms\n",
      "69. Ми витягнули жовтий M&Ms\n",
      "70. Ми витягнули жовтий M&Ms\n",
      "71. Ми витягнули синій M&Ms\n",
      "72. Ми витягнули червоний M&Ms\n",
      "Ура! Нам пощастило!\n",
      "73. Ми витягнули зелений M&Ms\n",
      "74. Ми витягнули помаранчевий M&Ms\n",
      "75. Ми витягнули червоний M&Ms\n",
      "Ура! Нам пощастило!\n",
      "76. Ми витягнули червоний M&Ms\n",
      "Ура! Нам пощастило!\n",
      "77. Ми витягнули синій M&Ms\n",
      "78. Ми витягнули жовтий M&Ms\n",
      "79. Ми витягнули помаранчевий M&Ms\n",
      "80. Ми витягнули коричневий M&Ms\n",
      "81. Ми витягнули зелений M&Ms\n",
      "82. Ми витягнули помаранчевий M&Ms\n",
      "83. Ми витягнули синій M&Ms\n",
      "84. Ми витягнули коричневий M&Ms\n",
      "85. Ми витягнули коричневий M&Ms\n",
      "86. Ми витягнули жовтий M&Ms\n",
      "87. Ми витягнули зелений M&Ms\n",
      "88. Ми витягнули коричневий M&Ms\n",
      "89. Ми витягнули червоний M&Ms\n",
      "Ура! Нам пощастило!\n",
      "90. Ми витягнули зелений M&Ms\n",
      "91. Ми витягнули помаранчевий M&Ms\n",
      "92. Ми витягнули зелений M&Ms\n",
      "93. Ми витягнули зелений M&Ms\n",
      "94. Ми витягнули синій M&Ms\n",
      "95. Ми витягнули червоний M&Ms\n",
      "Ура! Нам пощастило!\n",
      "96. Ми витягнули зелений M&Ms\n",
      "97. Ми витягнули зелений M&Ms\n",
      "98. Ми витягнули помаранчевий M&Ms\n",
      "99. Ми витягнули зелений M&Ms\n",
      "Всього червоних M&Ms: 16\n"
     ]
    }
   ],
   "source": [
    "import random\n",
    "mmds = [\"червоний\", \"жовтий\", \"зелений\", \"коричневий\", \"помаранчевий\", \"синій\"]\n",
    "\n",
    "i = 0\n",
    "for j in range(100):\n",
    "    m_color = mmds[random.randint(0, 5)]\n",
    "    print(f\"{j}. Ми витягнули {m_color} M&Ms\")\n",
    "    if m_color == \"червоний\":\n",
    "        print(\"Ура! Нам пощастило!\")\n",
    "        i += 1\n",
    "print(f\"Всього червоних M&Ms: {i}\")"
   ]
  },
  {
   "cell_type": "markdown",
   "id": "559e92e0",
   "metadata": {},
   "source": [
    "- мій приклад "
   ]
  },
  {
   "cell_type": "code",
   "execution_count": 140,
   "id": "50c7b5b1",
   "metadata": {},
   "outputs": [
    {
     "name": "stdout",
     "output_type": "stream",
     "text": [
      "0. Ми витягнули Одеса\n",
      "1. Ми витягнули Івано-Франківськ\n",
      "Ура! Нам пощастило!\n",
      "2. Ми витягнули Київ\n",
      "3. Ми витягнули Київ\n",
      "4. Ми витягнули Дніпро\n",
      "5. Ми витягнули Київ\n",
      "6. Ми витягнули Вінниця\n",
      "7. Ми витягнули Київ\n",
      "8. Ми витягнули Київ\n",
      "9. Ми витягнули Вінниця\n",
      "10. Ми витягнули Київ\n",
      "11. Ми витягнули Івано-Франківськ\n",
      "Ура! Нам пощастило!\n",
      "12. Ми витягнули Вінниця\n",
      "13. Ми витягнули Київ\n",
      "14. Ми витягнули Київ\n",
      "15. Ми витягнули Одеса\n",
      "16. Ми витягнули Київ\n",
      "17. Ми витягнули Вінниця\n",
      "18. Ми витягнули Вінниця\n",
      "19. Ми витягнули Івано-Франківськ\n",
      "Ура! Нам пощастило!\n",
      "20. Ми витягнули Вінниця\n",
      "21. Ми витягнули Івано-Франківськ\n",
      "Ура! Нам пощастило!\n",
      "22. Ми витягнули Харків\n",
      "23. Ми витягнули Харків\n",
      "24. Ми витягнули Харків\n",
      "25. Ми витягнули Київ\n",
      "26. Ми витягнули Вінниця\n",
      "27. Ми витягнули Київ\n",
      "28. Ми витягнули Київ\n",
      "29. Ми витягнули Івано-Франківськ\n",
      "Ура! Нам пощастило!\n",
      "30. Ми витягнули Київ\n",
      "31. Ми витягнули Київ\n",
      "32. Ми витягнули Дніпро\n",
      "33. Ми витягнули Одеса\n",
      "34. Ми витягнули Вінниця\n",
      "35. Ми витягнули Івано-Франківськ\n",
      "Ура! Нам пощастило!\n",
      "36. Ми витягнули Дніпро\n",
      "37. Ми витягнули Одеса\n",
      "38. Ми витягнули Харків\n",
      "39. Ми витягнули Одеса\n",
      "40. Ми витягнули Івано-Франківськ\n",
      "Ура! Нам пощастило!\n",
      "41. Ми витягнули Харків\n",
      "42. Ми витягнули Івано-Франківськ\n",
      "Ура! Нам пощастило!\n",
      "43. Ми витягнули Дніпро\n",
      "44. Ми витягнули Одеса\n",
      "45. Ми витягнули Дніпро\n",
      "46. Ми витягнули Харків\n",
      "47. Ми витягнули Івано-Франківськ\n",
      "Ура! Нам пощастило!\n",
      "48. Ми витягнули Одеса\n",
      "49. Ми витягнули Одеса\n",
      "50. Ми витягнули Івано-Франківськ\n",
      "Ура! Нам пощастило!\n",
      "51. Ми витягнули Київ\n",
      "52. Ми витягнули Вінниця\n",
      "53. Ми витягнули Харків\n",
      "54. Ми витягнули Харків\n",
      "55. Ми витягнули Київ\n",
      "56. Ми витягнули Харків\n",
      "57. Ми витягнули Івано-Франківськ\n",
      "Ура! Нам пощастило!\n",
      "58. Ми витягнули Дніпро\n",
      "59. Ми витягнули Вінниця\n",
      "60. Ми витягнули Івано-Франківськ\n",
      "Ура! Нам пощастило!\n",
      "61. Ми витягнули Одеса\n",
      "62. Ми витягнули Вінниця\n",
      "63. Ми витягнули Дніпро\n",
      "64. Ми витягнули Вінниця\n",
      "65. Ми витягнули Івано-Франківськ\n",
      "Ура! Нам пощастило!\n",
      "66. Ми витягнули Харків\n",
      "67. Ми витягнули Вінниця\n",
      "68. Ми витягнули Харків\n",
      "69. Ми витягнули Дніпро\n",
      "70. Ми витягнули Дніпро\n",
      "71. Ми витягнули Івано-Франківськ\n",
      "Ура! Нам пощастило!\n",
      "72. Ми витягнули Київ\n",
      "73. Ми витягнули Вінниця\n",
      "74. Ми витягнули Київ\n",
      "75. Ми витягнули Одеса\n",
      "76. Ми витягнули Дніпро\n",
      "77. Ми витягнули Дніпро\n",
      "78. Ми витягнули Вінниця\n",
      "79. Ми витягнули Івано-Франківськ\n",
      "Ура! Нам пощастило!\n",
      "80. Ми витягнули Вінниця\n",
      "81. Ми витягнули Київ\n",
      "82. Ми витягнули Харків\n",
      "83. Ми витягнули Київ\n",
      "84. Ми витягнули Вінниця\n",
      "85. Ми витягнули Івано-Франківськ\n",
      "Ура! Нам пощастило!\n",
      "86. Ми витягнули Дніпро\n",
      "87. Ми витягнули Харків\n",
      "88. Ми витягнули Вінниця\n",
      "89. Ми витягнули Вінниця\n",
      "90. Ми витягнули Одеса\n",
      "91. Ми витягнули Дніпро\n",
      "92. Ми витягнули Дніпро\n",
      "93. Ми витягнули Івано-Франківськ\n",
      "Ура! Нам пощастило!\n",
      "94. Ми витягнули Дніпро\n",
      "95. Ми витягнули Вінниця\n",
      "96. Ми витягнули Івано-Франківськ\n",
      "Ура! Нам пощастило!\n",
      "97. Ми витягнули Дніпро\n",
      "98. Ми витягнули Івано-Франківськ\n",
      "Ура! Нам пощастило!\n",
      "99. Ми витягнули Київ\n",
      "Всього Івано-Франківськ: 99\n"
     ]
    }
   ],
   "source": [
    "import random\n",
    "citys = [\"Київ\", \"Івано-Франківськ\", \"Одеса\", \"Харків\", \"Дніпро\", \"Вінниця\"]\n",
    "d = 0\n",
    "for d in range(100):\n",
    "    m_city = citys[random.randint(0, 5)]\n",
    "    print(f\"{d}. Ми витягнули {m_city}\")\n",
    "    if m_city == \"Івано-Франківськ\":\n",
    "        print(\"Ура! Нам пощастило!\")\n",
    "        d += 1\n",
    "print(f\"Всього Івано-Франківськ: {d}\")\n"
   ]
  },
  {
   "cell_type": "code",
   "execution_count": 108,
   "id": "498d5c36",
   "metadata": {},
   "outputs": [
    {
     "name": "stdout",
     "output_type": "stream",
     "text": [
      "Ми витягнули жовтий M&Ms\n",
      "Ми витягнули помаранчевий M&Ms\n",
      "Ми витягнули зелений M&Ms\n",
      "Ми витягнули синій M&Ms\n",
      "Ми витягнули синій M&Ms\n",
      "Ми витягнули жовтий M&Ms\n",
      "Ми витягнули помаранчевий M&Ms\n",
      "Ми витягнули червоний M&Ms\n",
      "Ура! Нам пощастило!\n",
      "Ми витягнули коричневий M&Ms\n",
      "Ми витягнули коричневий M&Ms\n",
      "Ми витягнули жовтий M&Ms\n",
      "Ми витягнули жовтий M&Ms\n",
      "Ми витягнули коричневий M&Ms\n",
      "Ми витягнули зелений M&Ms\n",
      "Ми витягнули жовтий M&Ms\n",
      "Ми витягнули коричневий M&Ms\n",
      "Ми витягнули зелений M&Ms\n",
      "Ми витягнули синій M&Ms\n",
      "Ми витягнули синій M&Ms\n",
      "Ми витягнули зелений M&Ms\n",
      "Ми витягнули помаранчевий M&Ms\n",
      "Ми витягнули червоний M&Ms\n",
      "Ура! Нам пощастило!\n",
      "Ми витягнули синій M&Ms\n",
      "Ми витягнули синій M&Ms\n",
      "Ми витягнули зелений M&Ms\n",
      "Ми витягнули жовтий M&Ms\n",
      "Ми витягнули червоний M&Ms\n",
      "Ура! Нам пощастило!\n",
      "Ми витягнули жовтий M&Ms\n",
      "Ми витягнули помаранчевий M&Ms\n",
      "Ми витягнули синій M&Ms\n",
      "Ми витягнули жовтий M&Ms\n",
      "Ми витягнули синій M&Ms\n",
      "Ми витягнули червоний M&Ms\n",
      "Ура! Нам пощастило!\n",
      "Ми витягнули зелений M&Ms\n",
      "Ми витягнули червоний M&Ms\n",
      "Ура! Нам пощастило!\n",
      "Ми витягнули помаранчевий M&Ms\n",
      "Ми витягнули коричневий M&Ms\n",
      "Ми витягнули коричневий M&Ms\n",
      "Ми витягнули жовтий M&Ms\n",
      "Ми витягнули червоний M&Ms\n",
      "Ура! Нам пощастило!\n",
      "Ми витягнули червоний M&Ms\n",
      "Ура! Нам пощастило!\n",
      "Ми витягнули синій M&Ms\n",
      "Ми витягнули зелений M&Ms\n",
      "Ми витягнули коричневий M&Ms\n",
      "Ми витягнули червоний M&Ms\n",
      "Ура! Нам пощастило!\n",
      "Ми витягнули коричневий M&Ms\n",
      "Ми витягнули коричневий M&Ms\n",
      "Ми витягнули синій M&Ms\n",
      "Ми витягнули коричневий M&Ms\n",
      "Ми витягнули синій M&Ms\n",
      "Ми витягнули червоний M&Ms\n",
      "Ура! Нам пощастило!\n",
      "Ми витягнули коричневий M&Ms\n",
      "Ми витягнули синій M&Ms\n",
      "Ми витягнули червоний M&Ms\n",
      "Ура! Нам пощастило!\n",
      "Ми витягнули червоний M&Ms\n",
      "Ура! Нам пощастило!\n",
      "Ми витягнули коричневий M&Ms\n",
      "Ми витягнули червоний M&Ms\n",
      "Ура! Нам пощастило!\n",
      "Ми витягнули помаранчевий M&Ms\n",
      "Ми витягнули помаранчевий M&Ms\n",
      "Ми витягнули синій M&Ms\n",
      "Ми витягнули зелений M&Ms\n",
      "Ми витягнули червоний M&Ms\n",
      "Ура! Нам пощастило!\n",
      "Ми витягнули зелений M&Ms\n",
      "Ми витягнули червоний M&Ms\n",
      "Ура! Нам пощастило!\n",
      "Ми витягнули червоний M&Ms\n",
      "Ура! Нам пощастило!\n",
      "Ми витягнули жовтий M&Ms\n",
      "Ми витягнули зелений M&Ms\n",
      "Ми витягнули жовтий M&Ms\n",
      "Ми витягнули помаранчевий M&Ms\n",
      "Ми витягнули коричневий M&Ms\n",
      "Ми витягнули жовтий M&Ms\n",
      "Ми витягнули червоний M&Ms\n",
      "Ура! Нам пощастило!\n",
      "Ми витягнули зелений M&Ms\n",
      "Ми витягнули зелений M&Ms\n",
      "Ми витягнули помаранчевий M&Ms\n",
      "Ми витягнули коричневий M&Ms\n",
      "Ми витягнули зелений M&Ms\n",
      "Ми витягнули зелений M&Ms\n",
      "Ми витягнули жовтий M&Ms\n",
      "Ми витягнули помаранчевий M&Ms\n",
      "Ми витягнули червоний M&Ms\n",
      "Ура! Нам пощастило!\n",
      "Ми витягнули зелений M&Ms\n",
      "Ми витягнули коричневий M&Ms\n",
      "Ми витягнули коричневий M&Ms\n",
      "Ми витягнули синій M&Ms\n",
      "Ми витягнули коричневий M&Ms\n",
      "Ми витягнули помаранчевий M&Ms\n",
      "Ми витягнули синій M&Ms\n",
      "Ми витягнули зелений M&Ms\n",
      "Ми витягнули помаранчевий M&Ms\n",
      "Ми витягнули синій M&Ms\n",
      "Ми витягнули коричневий M&Ms\n",
      "Ми витягнули червоний M&Ms\n",
      "Ура! Нам пощастило!\n",
      "Ми витягнули зелений M&Ms\n",
      "Ми витягнули жовтий M&Ms\n",
      "Ми витягнули помаранчевий M&Ms\n",
      "Ми витягнули синій M&Ms\n",
      "Ми витягнули помаранчевий M&Ms\n",
      "Ми витягнули жовтий M&Ms\n",
      "Ми витягнули зелений M&Ms\n",
      "Всього червоних M&Ms: 18\n"
     ]
    }
   ],
   "source": [
    "import random\n",
    "mmds = [\"червоний\", \"жовтий\", \"зелений\", \"коричневий\", \"помаранчевий\", \"синій\"]\n",
    "pack_base = mmds * 20\n",
    "random.shuffle(pack_base)\n",
    "pack = pack_base[:100]\n",
    "i = 0\n",
    "while pack:\n",
    "    m_color = pack.pop()\n",
    "    print(f\"Ми витягнули {m_color} M&Ms\")\n",
    "    if m_color == \"червоний\":\n",
    "        print(\"Ура! Нам пощастило!\")\n",
    "        i += 1\n",
    "print(f\"Всього червоних M&Ms: {i}\")\n"
   ]
  },
  {
   "cell_type": "markdown",
   "id": "fe86a592",
   "metadata": {},
   "source": [
    "- мій приклад "
   ]
  },
  {
   "cell_type": "code",
   "execution_count": 133,
   "id": "73295fb0",
   "metadata": {},
   "outputs": [
    {
     "name": "stdout",
     "output_type": "stream",
     "text": [
      "Ми витягнули Харків\n",
      "Ми витягнули Київ\n",
      "Ми витягнули Вінниця\n",
      "Ми витягнули Дніпро\n",
      "Ми витягнули Одеса\n",
      "Ми витягнули Івано-Франківськ\n",
      "Ура! Нам пощастило!\n",
      "Ми витягнули Одеса\n",
      "Ми витягнули Дніпро\n",
      "Ми витягнули Харків\n",
      "Ми витягнули Івано-Франківськ\n",
      "Ура! Нам пощастило!\n",
      "Ми витягнули Київ\n",
      "Ми витягнули Вінниця\n",
      "Ми витягнули Харків\n",
      "Ми витягнули Одеса\n",
      "Ми витягнули Івано-Франківськ\n",
      "Ура! Нам пощастило!\n",
      "Ми витягнули Київ\n",
      "Ми витягнули Одеса\n",
      "Ми витягнули Одеса\n",
      "Ми витягнули Харків\n",
      "Ми витягнули Дніпро\n",
      "Ми витягнули Івано-Франківськ\n",
      "Ура! Нам пощастило!\n",
      "Ми витягнули Івано-Франківськ\n",
      "Ура! Нам пощастило!\n",
      "Ми витягнули Дніпро\n",
      "Ми витягнули Дніпро\n",
      "Ми витягнули Вінниця\n",
      "Ми витягнули Вінниця\n",
      "Ми витягнули Дніпро\n",
      "Ми витягнули Івано-Франківськ\n",
      "Ура! Нам пощастило!\n",
      "Ми витягнули Харків\n",
      "Ми витягнули Одеса\n",
      "Ми витягнули Одеса\n",
      "Ми витягнули Одеса\n",
      "Ми витягнули Харків\n",
      "Ми витягнули Дніпро\n",
      "Ми витягнули Вінниця\n",
      "Ми витягнули Дніпро\n",
      "Ми витягнули Одеса\n",
      "Ми витягнули Одеса\n",
      "Ми витягнули Київ\n",
      "Ми витягнули Київ\n",
      "Ми витягнули Вінниця\n",
      "Ми витягнули Вінниця\n",
      "Ми витягнули Дніпро\n",
      "Ми витягнули Київ\n",
      "Ми витягнули Дніпро\n",
      "Ми витягнули Одеса\n",
      "Ми витягнули Харків\n",
      "Ми витягнули Дніпро\n",
      "Ми витягнули Івано-Франківськ\n",
      "Ура! Нам пощастило!\n",
      "Ми витягнули Київ\n",
      "Ми витягнули Дніпро\n",
      "Ми витягнули Івано-Франківськ\n",
      "Ура! Нам пощастило!\n",
      "Ми витягнули Вінниця\n",
      "Ми витягнули Вінниця\n",
      "Ми витягнули Вінниця\n",
      "Ми витягнули Одеса\n",
      "Ми витягнули Дніпро\n",
      "Ми витягнули Івано-Франківськ\n",
      "Ура! Нам пощастило!\n",
      "Ми витягнули Дніпро\n",
      "Ми витягнули Харків\n",
      "Ми витягнули Одеса\n",
      "Ми витягнули Київ\n",
      "Ми витягнули Вінниця\n",
      "Ми витягнули Київ\n",
      "Ми витягнули Дніпро\n",
      "Ми витягнули Харків\n",
      "Ми витягнули Київ\n",
      "Ми витягнули Івано-Франківськ\n",
      "Ура! Нам пощастило!\n",
      "Ми витягнули Одеса\n",
      "Ми витягнули Харків\n",
      "Ми витягнули Івано-Франківськ\n",
      "Ура! Нам пощастило!\n",
      "Ми витягнули Івано-Франківськ\n",
      "Ура! Нам пощастило!\n",
      "Ми витягнули Вінниця\n",
      "Ми витягнули Одеса\n",
      "Ми витягнули Дніпро\n",
      "Ми витягнули Київ\n",
      "Ми витягнули Харків\n",
      "Ми витягнули Київ\n",
      "Ми витягнули Київ\n",
      "Ми витягнули Харків\n",
      "Ми витягнули Дніпро\n",
      "Ми витягнули Вінниця\n",
      "Ми витягнули Харків\n",
      "Ми витягнули Київ\n",
      "Ми витягнули Київ\n",
      "Ми витягнули Київ\n",
      "Ми витягнули Вінниця\n",
      "Ми витягнули Харків\n",
      "Ми витягнули Вінниця\n",
      "Ми витягнули Вінниця\n",
      "Ми витягнули Івано-Франківськ\n",
      "Ура! Нам пощастило!\n",
      "Ми витягнули Одеса\n",
      "Ми витягнули Одеса\n",
      "Ми витягнули Харків\n",
      "Ми витягнули Івано-Франківськ\n",
      "Ура! Нам пощастило!\n",
      "Ми витягнули Одеса\n",
      "Ми витягнули Івано-Франківськ\n",
      "Ура! Нам пощастило!\n",
      "Ми витягнули Вінниця\n",
      "Ми витягнули Харків\n",
      "Ми витягнули Івано-Франківськ\n",
      "Ура! Нам пощастило!\n",
      "Всього Івано-Франківськ: 16\n"
     ]
    }
   ],
   "source": [
    "import random\n",
    "citys = [\"Київ\", \"Івано-Франківськ\", \"Одеса\", \"Харків\", \"Дніпро\", \"Вінниця\"]\n",
    "pack_base = citys * 20\n",
    "random.shuffle(pack_base)\n",
    "pack = pack_base[:100]\n",
    "d = 0\n",
    "while pack:\n",
    "    m_city = pack.pop()\n",
    "    print(f\"Ми витягнули {m_city}\")\n",
    "    if m_city == \"Івано-Франківськ\":\n",
    "        print(\"Ура! Нам пощастило!\")\n",
    "        d += 1\n",
    "print(f\"Всього Івано-Франківськ: {d}\")\n",
    "\n"
   ]
  },
  {
   "cell_type": "markdown",
   "id": "5dd91d86",
   "metadata": {},
   "source": [
    "- додаткові елеменети переривання циклів break continue"
   ]
  },
  {
   "cell_type": "markdown",
   "id": "f2e23744",
   "metadata": {},
   "source": [
    "# Завдання \n",
    "- кидаємо кубик до поки в нас не випаде 6"
   ]
  },
  {
   "cell_type": "code",
   "execution_count": 126,
   "id": "4d7e2131",
   "metadata": {},
   "outputs": [
    {
     "name": "stdout",
     "output_type": "stream",
     "text": [
      "Мені випало 3\n",
      "Мені випало 3\n",
      "Мені випало 6\n"
     ]
    }
   ],
   "source": [
    "import random\n",
    "dice = None\n",
    "while dice != 6:\n",
    "    dice = random.randint(1, 6)\n",
    "    print(f\"Мені випало {dice}\")"
   ]
  },
  {
   "cell_type": "markdown",
   "id": "ca3d2bc7",
   "metadata": {},
   "source": [
    "- мій приклад"
   ]
  },
  {
   "cell_type": "code",
   "execution_count": 128,
   "id": "ba1757fd",
   "metadata": {},
   "outputs": [
    {
     "name": "stdout",
     "output_type": "stream",
     "text": [
      "Мені випало 5\n",
      "Мені випало 2\n",
      "Мені випало 1\n",
      "Мені випало 6\n",
      "Мені випало 1\n",
      "Мені випало 1\n",
      "Мені випало 3\n",
      "Мені випало 4\n"
     ]
    }
   ],
   "source": [
    "import random\n",
    "d = None\n",
    "while d != 4:\n",
    "    d = random.randint(1, 6)\n",
    "    print(f\"Мені випало {d}\") "
   ]
  },
  {
   "cell_type": "code",
   "execution_count": 129,
   "id": "1a255ed9",
   "metadata": {},
   "outputs": [
    {
     "name": "stdout",
     "output_type": "stream",
     "text": [
      "0. Мені випало 1\n",
      "1. Мені випало 3\n",
      "2. Мені випало 5\n",
      "3. Мені випало 4\n",
      "4. Мені випало 3\n",
      "5. Мені випало 1\n",
      "6. Мені випало 4\n",
      "7. Мені випало 3\n",
      "8. Мені випало 4\n",
      "9. Мені випало 5\n",
      "10. Мені випало 4\n",
      "11. Мені випало 4\n",
      "12. Мені випало 1\n",
      "13. Мені випало 1\n",
      "14. Мені випало 3\n",
      "15. Мені випало 5\n",
      "16. Мені випало 1\n",
      "17. Мені випало 1\n",
      "18. Мені випало 4\n",
      "19. Мені випало 4\n",
      "20. Мені випало 6\n",
      "Ура! Нам пощастило!\n"
     ]
    }
   ],
   "source": [
    "for i in range(100):\n",
    "    dice = random.randint(1, 6)\n",
    "    print(f\"{i}. Мені випало {dice}\")\n",
    "    if dice == 6:\n",
    "        print(\"Ура! Нам пощастило!\")\n",
    "        break"
   ]
  },
  {
   "cell_type": "code",
   "execution_count": 130,
   "id": "546c0b01",
   "metadata": {},
   "outputs": [
    {
     "name": "stdout",
     "output_type": "stream",
     "text": [
      "0. Мені випало 1\n",
      "1. Мені випало 3\n",
      "2. Мені випало 2\n",
      "3. Мені випало 4\n",
      "Ура! Нам пощастило!\n"
     ]
    }
   ],
   "source": [
    "for s in range(100):\n",
    "    d = random.randint(1, 6)\n",
    "    print(f\"{s}. Мені випало {d}\")\n",
    "    if d == 4:\n",
    "        print(\"Ура! Нам пощастило!\")\n",
    "        break"
   ]
  },
  {
   "cell_type": "markdown",
   "id": "f3deb743",
   "metadata": {},
   "source": [
    "# Завдання \n",
    "- в пачці M&Ds відкладаємо всі червоні і зелені"
   ]
  },
  {
   "cell_type": "code",
   "execution_count": 142,
   "id": "2916ba70",
   "metadata": {},
   "outputs": [
    {
     "name": "stdout",
     "output_type": "stream",
     "text": [
      "Івано-Франківськ з'їдено\n",
      "Харків з'їдено\n",
      "Вінниця з'їдено\n",
      "Івано-Франківськ з'їдено\n",
      "Одеса з'їдено\n",
      "Івано-Франківськ з'їдено\n",
      "Харків з'їдено\n",
      "Одеса з'їдено\n",
      "Одеса з'їдено\n",
      "Івано-Франківськ з'їдено\n",
      "Вінниця з'їдено\n",
      "Вінниця з'їдено\n",
      "Харків з'їдено\n",
      "Вінниця з'їдено\n",
      "Київ з'їдено\n",
      "Київ з'їдено\n",
      "Київ з'їдено\n",
      "Харків з'їдено\n",
      "Вінниця з'їдено\n",
      "Дніпро з'їдено\n",
      "Харків з'їдено\n",
      "Київ з'їдено\n",
      "Київ з'їдено\n",
      "Харків з'їдено\n",
      "Київ з'їдено\n",
      "Дніпро з'їдено\n",
      "Одеса з'їдено\n",
      "Вінниця з'їдено\n",
      "Івано-Франківськ з'їдено\n",
      "Івано-Франківськ з'їдено\n",
      "Харків з'їдено\n",
      "Одеса з'їдено\n",
      "Івано-Франківськ з'їдено\n",
      "Київ з'їдено\n",
      "Харків з'їдено\n",
      "Дніпро з'їдено\n",
      "Київ з'їдено\n",
      "Вінниця з'їдено\n",
      "Київ з'їдено\n",
      "Одеса з'їдено\n",
      "Харків з'їдено\n",
      "Дніпро з'їдено\n",
      "Івано-Франківськ з'їдено\n",
      "Дніпро з'їдено\n",
      "Одеса з'їдено\n",
      "Вінниця з'їдено\n",
      "Вінниця з'їдено\n",
      "Вінниця з'їдено\n",
      "Івано-Франківськ з'їдено\n",
      "Дніпро з'їдено\n",
      "Київ з'їдено\n",
      "Івано-Франківськ з'їдено\n",
      "Дніпро з'їдено\n",
      "Харків з'їдено\n",
      "Одеса з'їдено\n",
      "Дніпро з'їдено\n",
      "Київ з'їдено\n",
      "Дніпро з'їдено\n",
      "Вінниця з'їдено\n",
      "Вінниця з'їдено\n",
      "Київ з'їдено\n",
      "Київ з'їдено\n",
      "Одеса з'їдено\n",
      "Одеса з'їдено\n",
      "Дніпро з'їдено\n",
      "Вінниця з'їдено\n",
      "Дніпро з'їдено\n",
      "Харків з'їдено\n",
      "Одеса з'їдено\n",
      "Одеса з'їдено\n",
      "Одеса з'їдено\n",
      "Харків з'їдено\n",
      "Івано-Франківськ з'їдено\n",
      "Дніпро з'їдено\n",
      "Вінниця з'їдено\n",
      "Вінниця з'їдено\n",
      "Дніпро з'їдено\n",
      "Дніпро з'їдено\n",
      "Івано-Франківськ з'їдено\n",
      "Івано-Франківськ з'їдено\n",
      "Дніпро з'їдено\n",
      "Харків з'їдено\n",
      "Одеса з'їдено\n",
      "Одеса з'їдено\n",
      "Київ з'їдено\n",
      "Івано-Франківськ з'їдено\n",
      "Одеса з'їдено\n",
      "Харків з'їдено\n",
      "Вінниця з'їдено\n",
      "Київ з'їдено\n",
      "Івано-Франківськ з'їдено\n",
      "Харків з'їдено\n",
      "Дніпро з'їдено\n",
      "Одеса з'їдено\n",
      "Івано-Франківськ з'їдено\n",
      "Одеса з'їдено\n",
      "Дніпро з'їдено\n",
      "Вінниця з'їдено\n",
      "Київ з'їдено\n",
      "Харків з'їдено\n"
     ]
    }
   ],
   "source": [
    "pack = pack_base[:100]\n",
    "for i in pack:\n",
    "    if i in [\"червоний\", \"зелений\"]:\n",
    "        print(f\"{i} відкладено в сторону\")\n",
    "        continue\n",
    "    print(f\"{i} з'їдено\")"
   ]
  },
  {
   "cell_type": "markdown",
   "id": "ab5a5752",
   "metadata": {},
   "source": [
    "- конструкція else використовується лише коли потрібно визначити чи був викликаний break\n",
    "- однострічкові вирази list comprehension (ми можемо накопичити список використовуючи for в одному рядку)\n",
    "- розгалуження також можуть бути однорядковими, а ще ми можемо це все комбінувати "
   ]
  },
  {
   "cell_type": "code",
   "execution_count": 143,
   "id": "6d42bdb2",
   "metadata": {},
   "outputs": [
    {
     "name": "stdout",
     "output_type": "stream",
     "text": [
      "[2, 4, 8, 16, 32, 64, 128]\n",
      "[2, 4, 8, 16, 32, 64, 128]\n",
      "{1: 2, 2: 4, 3: 8, 4: 16, 5: 32, 6: 64, 7: 128}\n",
      "Визначені парні числа: [2, 4, 6, 8, 10, 12, 14, 16, 18, 20]\n"
     ]
    }
   ],
   "source": [
    "x = []\n",
    "for i in range(1, 8):\n",
    "    x.append(2 ** i)\n",
    "\n",
    "print(x)\n",
    "\n",
    "x = [2 ** i for i in range(1, 8)]\n",
    "print(x)\n",
    "\n",
    "d = {i: 2 ** i for i in range(1, 8)}\n",
    "print(d)\n",
    "\n",
    "even_nembers = [i for i in range(1, 21) if i % 2 == 0]\n",
    "print(f\"Визначені парні числа: {even_nembers}\")"
   ]
  },
  {
   "cell_type": "code",
   "execution_count": 148,
   "id": "968f145e",
   "metadata": {},
   "outputs": [
    {
     "name": "stdout",
     "output_type": "stream",
     "text": [
      "[2]\n",
      "[2, 4]\n",
      "[2, 4, 6]\n",
      "[2, 4, 6, 8]\n",
      "[3, 9, 27, 81, 243, 729, 2187, 6561, 19683, 59049, 177147, 531441, 1594323, 4782969, 14348907, 43046721, 129140163, 387420489, 1162261467, 3486784401]\n",
      "{1: 3, 2: 9, 3: 27, 4: 81, 5: 243, 6: 729, 7: 2187, 8: 6561, 9: 19683, 10: 59049, 11: 177147, 12: 531441, 13: 1594323, 14: 4782969, 15: 14348907, 16: 43046721, 17: 129140163, 18: 387420489, 19: 1162261467, 20: 3486784401}\n",
      "Визначені парні числа: [2, 4, 6, 8, 10, 12, 14, 16, 18, 20, 22, 24, 26, 28, 30, 32, 34, 36, 38, 40, 42, 44, 46, 48, 50]\n"
     ]
    }
   ],
   "source": [
    "y = []\n",
    "for i in range(1, 10):\n",
    "    if i % 2 == 0:\n",
    "        y.append(i)\n",
    "        print(y)\n",
    "\n",
    "y = [3 ** i for i in range(1, 21)]\n",
    "print(y)\n",
    "\n",
    "a = {i: 3 ** i for i in range(1, 21)}\n",
    "print(a)  \n",
    "\n",
    "even_nembers = [i for i in range(1, 51) if i % 2 == 0]\n",
    "print(f\"Визначені парні числа: {even_nembers}\")"
   ]
  },
  {
   "cell_type": "markdown",
   "id": "152e60ed",
   "metadata": {},
   "source": [
    "# Виловлювання помилок\n",
    "- найчастіше використовується для зовнішніх помилок\n",
    "- обролювач завжди повинен бути привязаний до конкретної помилки (хоча можемо робити і узагальнуну помилку) \n"
   ]
  },
  {
   "cell_type": "code",
   "execution_count": 149,
   "id": "fa5db2c5",
   "metadata": {},
   "outputs": [
    {
     "name": "stdout",
     "output_type": "stream",
     "text": [
      "1. Ділення на 2\n",
      "Результат: 5.0 та невідомам змінна 1\n",
      "Використовуємо результат далі для операції <#><#><#><#><#>\n",
      "2. Ділення на 4\n",
      "Результат: 2.5 та невідомам змінна 1\n",
      "Використовуємо результат далі для операції <#><#>\n",
      "3. Ділення на 5\n",
      "Результат: 2.0 та невідомам змінна 1\n",
      "Використовуємо результат далі для операції <#><#>\n",
      "4. Ділення на 0\n",
      "Сталася помилка: division by zero Сетапимо значення за замовчуванням 0\n",
      "Використовуємо результат далі для операції \n",
      "5. Ділення на 1\n",
      "Результат: 10.0 та невідомам змінна 1\n",
      "Використовуємо результат далі для операції <#><#><#><#><#><#><#><#><#><#>\n",
      "6. Ділення на 2\n",
      "Результат: 5.0 та невідомам змінна 1\n",
      "Використовуємо результат далі для операції <#><#><#><#><#>\n",
      "7. Ділення на 4\n",
      "Результат: 2.5 та невідомам змінна 1\n",
      "Використовуємо результат далі для операції <#><#>\n",
      "8. Ділення на 0\n",
      "Сталася помилка: division by zero Сетапимо значення за замовчуванням 0\n",
      "Використовуємо результат далі для операції \n",
      "9. Ділення на 4\n",
      "Результат: 2.5 та невідомам змінна 1\n",
      "Використовуємо результат далі для операції <#><#>\n",
      "10. Ділення на 4\n",
      "Результат: 2.5 та невідомам змінна 1\n",
      "Використовуємо результат далі для операції <#><#>\n"
     ]
    }
   ],
   "source": [
    "import random\n",
    "\n",
    "for i in range(1, 11):\n",
    "    divider = random.randint(0, 5)\n",
    "    print(f\"{i}. Ділення на {divider}\")\n",
    "    #result = 10 / divider\n",
    "    try:\n",
    "        result = 10 / divider\n",
    "        x = 1\n",
    "        print(f\"Результат: {result} та невідомам змінна {x}\")\n",
    "    # except Exception as e:\n",
    "    except ZeroDivisionError as e:\n",
    "        print(\"Сталася помилка:\", e, \"Сетапимо значення за замовчуванням 0\")\n",
    "        result = 0\n",
    "    finally:\n",
    "        print(f\"Використовуємо результат далі для операції {int(result)*\"<#>\"}\")"
   ]
  },
  {
   "cell_type": "code",
   "execution_count": 151,
   "id": "0dce97bd",
   "metadata": {},
   "outputs": [],
   "source": [
    "def fun():\n",
    "    if True:\n",
    "        return\n",
    "    print(\"Цей рядок ніколи не буде виконаний\")\n",
    "    return"
   ]
  },
  {
   "cell_type": "markdown",
   "id": "dfd9a9c1",
   "metadata": {},
   "source": [
    "# Завдання \n",
    "- написати код обрахунку числ фібоначі з використанням однострічнових виразів"
   ]
  },
  {
   "cell_type": "code",
   "execution_count": 152,
   "id": "5300ed64",
   "metadata": {},
   "outputs": [
    {
     "name": "stdout",
     "output_type": "stream",
     "text": [
      "[0, 1, 1, 2, 3, 5, 8, 13, 21, 34, 55, 89, 144, 233, 377, 610, 987, 1597, 2584, 4181, 6765, 10946]\n"
     ]
    }
   ],
   "source": [
    "# написати код обрахунку числ фібоначі з використанням однострічнових виразів\n",
    "fibonacci = [0, 1]\n",
    "[fibonacci.append(fibonacci[-1] + fibonacci[-2]) for _ in range(20)]\n",
    "print(fibonacci)"
   ]
  },
  {
   "cell_type": "markdown",
   "id": "0aa80bd8",
   "metadata": {},
   "source": [
    "- мої приклади роботи з циклами\n"
   ]
  },
  {
   "cell_type": "markdown",
   "id": "19efdfc3",
   "metadata": {},
   "source": [
    "- Табличка множення "
   ]
  },
  {
   "cell_type": "code",
   "execution_count": 159,
   "id": "dac0caef",
   "metadata": {},
   "outputs": [
    {
     "name": "stdout",
     "output_type": "stream",
     "text": [
      "3 x 1 = 3\n",
      "3 x 2 = 6\n",
      "3 x 3 = 9\n",
      "3 x 4 = 12\n",
      "3 x 5 = 15\n",
      "3 x 6 = 18\n",
      "3 x 7 = 21\n",
      "3 x 8 = 24\n",
      "3 x 9 = 27\n",
      "3 x 10 = 30\n"
     ]
    }
   ],
   "source": [
    "n = int(input(\"Введи число: \"))\n",
    "\n",
    "for i in range(1, 11):\n",
    "    print(f\"{n} x {i} = {n * i}\")\n",
    "\n"
   ]
  },
  {
   "cell_type": "markdown",
   "id": "eca65c6b",
   "metadata": {},
   "source": [
    "- виведення всіх квадратів чисел від 1 до 10 "
   ]
  },
  {
   "cell_type": "code",
   "execution_count": 162,
   "id": "143fc56e",
   "metadata": {},
   "outputs": [
    {
     "name": "stdout",
     "output_type": "stream",
     "text": [
      "1 у квадраті = 1\n",
      "2 у квадраті = 4\n",
      "3 у квадраті = 9\n",
      "4 у квадраті = 16\n",
      "5 у квадраті = 25\n",
      "6 у квадраті = 36\n",
      "7 у квадраті = 49\n",
      "8 у квадраті = 64\n",
      "9 у квадраті = 81\n",
      "10 у квадраті = 100\n"
     ]
    }
   ],
   "source": [
    "for i in range(1, 11):\n",
    "    print(i, \"у квадраті =\", i ** 2)\n"
   ]
  },
  {
   "cell_type": "markdown",
   "id": "c8901c26",
   "metadata": {},
   "source": [
    "- Конструкція try->except->finally. У мові Python код не компілюється, а виконується відразу. Можливі помилки нам треба виловлювати самим. Напишіть свій варіант коду з помилкою. "
   ]
  },
  {
   "cell_type": "code",
   "execution_count": 163,
   "id": "3399865b",
   "metadata": {},
   "outputs": [
    {
     "name": "stdout",
     "output_type": "stream",
     "text": [
      "Невже це помилка >  division by zero\n",
      "О це так на тобі!\n"
     ]
    }
   ],
   "source": [
    "A = 0\n",
    "try:\n",
    "    print(\"Що буде якщо\", 10/A, \"?\")\n",
    "except Exception as e:\n",
    "    print(\"Невже це помилка > \", e)\n",
    "finally:\n",
    "    print(\"О це так на тобі!\")"
   ]
  },
  {
   "cell_type": "markdown",
   "id": "b0e97d7d",
   "metadata": {},
   "source": [
    "# Контекст-менеджер \n",
    "- є процеси які потребують узгодженої взаємодії - приклад - бази даних або робота з файлами \n",
    "- узгоджена - на прикладі файлів - відкрити - записати - закрити\n",
    "- контекст-менеджер узгоджує процеси та допомагає автоматично завершувати їх"
   ]
  },
  {
   "cell_type": "code",
   "execution_count": 167,
   "id": "c5b79b52",
   "metadata": {},
   "outputs": [
    {
     "name": "stdout",
     "output_type": "stream",
     "text": [
      "Це перший рядок\n",
      "\n",
      "\n",
      "\n",
      "\n",
      "\n",
      "Це десь повередині\n",
      "\n",
      "\n",
      "\n",
      "Кінець\n"
     ]
    }
   ],
   "source": [
    "f = open(\"test.txt\", \"r+\")\n",
    "f.write(\"Це перший рядок\")\n",
    "f.write(f\"\\n\\n\\nЦе десь повередині\\n\\nКінець\")\n",
    "f.close()\n",
    "\n",
    "f = open(\"test.txt\", \"r+\")\n",
    "for l in f.readlines():\n",
    "    print(l)\n",
    "f.close()"
   ]
  },
  {
   "cell_type": "code",
   "execution_count": 168,
   "id": "5ac17ac3",
   "metadata": {},
   "outputs": [],
   "source": [
    "with open(\"test.txt\", \"a+\") as f:\n",
    "    for s in [\"\\nЦе додали в контекст менеджері\\n\", \"Тепер кінець\", \"\\t\\tНі, не кінець\"]:\n",
    "        f.write(s)"
   ]
  },
  {
   "cell_type": "code",
   "execution_count": 169,
   "id": "21159f06",
   "metadata": {},
   "outputs": [
    {
     "name": "stdout",
     "output_type": "stream",
     "text": [
      "12\n",
      "3\n",
      "5\n",
      "\n"
     ]
    }
   ],
   "source": [
    "from concurrent.futures import ThreadPoolExecutor\n",
    "\n",
    "with ThreadPoolExecutor(max_workers=2) as executor:\n",
    "    executor.map(print, [1,2,3,5])"
   ]
  },
  {
   "cell_type": "code",
   "execution_count": 170,
   "id": "30b58164",
   "metadata": {},
   "outputs": [
    {
     "name": "stdout",
     "output_type": "stream",
     "text": [
      "Task 1 is running in ThreadPoolExecutor-1_0\n",
      "Task 2 is running in ThreadPoolExecutor-1_1\n",
      "Task 3 is running in ThreadPoolExecutor-1_0Task 5 is running in ThreadPoolExecutor-1_1\n",
      "\n",
      "Task вап is running in ThreadPoolExecutor-1_1Task jf is running in ThreadPoolExecutor-1_0\n",
      "\n",
      "Task 23 is running in ThreadPoolExecutor-1_0Task 4567 is running in ThreadPoolExecutor-1_1\n",
      "\n",
      "Task 457 is running in ThreadPoolExecutor-1_0\n",
      "['Task 1 completed in ThreadPoolExecutor-1_0', 'Task 2 completed in ThreadPoolExecutor-1_1', 'Task 3 completed in ThreadPoolExecutor-1_0', 'Task 5 completed in ThreadPoolExecutor-1_1', 'Task вап completed in ThreadPoolExecutor-1_1', 'Task jf completed in ThreadPoolExecutor-1_0', 'Task 23 completed in ThreadPoolExecutor-1_0', 'Task 4567 completed in ThreadPoolExecutor-1_1', 'Task 457 completed in ThreadPoolExecutor-1_0']\n"
     ]
    }
   ],
   "source": [
    "from concurrent.futures import ThreadPoolExecutor\n",
    "import threading\n",
    "import time\n",
    "\n",
    "def process_to_execute(task_number):\n",
    "    thread_name = threading.current_thread().name\n",
    "    print(f\"Task {task_number} is running in {thread_name}\")\n",
    "    time.sleep(1)  # Simulate some work\n",
    "    return f\"Task {task_number} completed in {thread_name}\"\n",
    "\n",
    "\n",
    "with ThreadPoolExecutor(max_workers=2) as executor:\n",
    "    results = list(executor.map(process_to_execute, [1,2,3,5, \"вап\", \"jf\", 23, 4567,457,]))\n",
    "\n",
    "print(results)"
   ]
  },
  {
   "cell_type": "code",
   "execution_count": 164,
   "id": "5a7c95e7",
   "metadata": {},
   "outputs": [
    {
     "name": "stdout",
     "output_type": "stream",
     "text": [
      "0)>   # Основи програмування на Python\n",
      "\n",
      "1)>  ## Мета роботи: __Навчитись застосовувати основні конструкції мови Python, виконати всі приклати та з використанням AI створити власні приклади які демонструють особливості кодових конструкцій Pyhton__\n",
      "\n",
      "2)>  \n",
      "\n",
      "3)>  ### Основні конструкції в Python\n",
      "\n",
      "4)>  1. Створила Python файл в якому буду виконувати завдання.\n",
      "\n",
      "5)>      [>>>URL на файл>>>>](./note.ipynb)\n",
      "\n"
     ]
    }
   ],
   "source": [
    "with open(\"README.md\", \"r\") as f:\n",
    "    for _, line in enumerate(f):\n",
    "        print(f\"{_})> \", line)"
   ]
  },
  {
   "cell_type": "markdown",
   "id": "014e838b",
   "metadata": {},
   "source": [
    "# Функції\n",
    "- Python lambdas\n",
    "- будь-який блок коду який вокиристовується більше 1-2 раз завжди поміщають у функцію"
   ]
  },
  {
   "cell_type": "code",
   "execution_count": 165,
   "id": "422042c4",
   "metadata": {},
   "outputs": [
    {
     "name": "stdout",
     "output_type": "stream",
     "text": [
      "Це просто функція: <function a_b_func at 0x110bbd080> \n",
      "А це лямбда: <function <lambda> at 0x110bbd1c0>\n",
      "Це її виклик: Цей код написав: Богдан, Мені     100000 років\n",
      "Цей код написав: a, Мені          1 років\n"
     ]
    }
   ],
   "source": [
    "def a_b_func(a, b):\n",
    "    return a, b\n",
    "\n",
    "this_is_lambda = lambda first, age: f'Цей код написав: {first}, Мені {age:10d} років'\n",
    "print(\"Це просто функція:\", a_b_func, \"\\nА це лямбда:\", this_is_lambda)\n",
    "print(\"Це її виклик:\", this_is_lambda('Богдан', 1_00_000))\n",
    "print(this_is_lambda(*a_b_func(\"a\", 1)))"
   ]
  },
  {
   "cell_type": "code",
   "execution_count": 171,
   "id": "d25d5e2a",
   "metadata": {},
   "outputs": [
    {
     "name": "stdout",
     "output_type": "stream",
     "text": [
      "змінна в глобальному скоупі Цось\n",
      "Виклик функції: Вихід з функції\n"
     ]
    }
   ],
   "source": [
    "n = \"змінна в глобальному скоупі\"\n",
    "\n",
    "def fun_name(fun_args):\n",
    "    print(f\"{n} {fun_args}\")\n",
    "    return \"Вихід з функції\"\n",
    "\n",
    "#print(fun_args)\n",
    "\n",
    "print(f\"Виклик функції: {fun_name(\"Цось\")}\")"
   ]
  },
  {
   "cell_type": "code",
   "execution_count": 172,
   "id": "54ab56d8",
   "metadata": {},
   "outputs": [
    {
     "name": "stdout",
     "output_type": "stream",
     "text": [
      "<class 'function'> 2 + 2 = 4\n",
      "<class 'function'> 2 + 2 = 4\n"
     ]
    }
   ],
   "source": [
    "def a_b(a, b):\n",
    "    return f\"{a} + {b} = {a+b}\"\n",
    "\n",
    "print(type(a_b), a_b(2, 2))\n",
    "# записуємо через безіменні функції\n",
    "\n",
    "f = lambda a, b: f\"{a} + {b} = {a+b}\"\n",
    "print(type(f), f(2,2))"
   ]
  },
  {
   "cell_type": "code",
   "execution_count": 173,
   "id": "b1f9cd0c",
   "metadata": {},
   "outputs": [
    {
     "name": "stdout",
     "output_type": "stream",
     "text": [
      "0 прогін1 прогін\n",
      "\n",
      "3 прогін\n",
      "2 прогін\n",
      "5 прогін\n",
      "7 прогін\n",
      "6 прогін\n",
      "11 прогін\n",
      "8 прогін\n",
      "10 прогін\n",
      "14 прогін\n",
      "15 прогін\n",
      "16 прогін\n",
      "17 прогін\n",
      "18 прогін\n",
      "19 прогін\n",
      "20 прогін\n",
      "21 прогін\n",
      "22 прогін\n",
      "23 прогін\n",
      "24 прогін\n",
      "25 прогін\n",
      "26 прогін\n",
      "27 прогін\n",
      "28 прогін\n",
      "29 прогін\n",
      "30 прогін\n",
      "31 прогін\n",
      "32 прогін\n",
      "33 прогін\n",
      "34 прогін\n",
      "35 прогін\n",
      "36 прогін\n",
      "37 прогін\n",
      "38 прогін\n",
      "39 прогін\n",
      "40 прогін\n",
      "41 прогін\n",
      "42 прогін\n",
      "43 прогін\n",
      "44 прогін\n",
      "45 прогін\n",
      "46 прогін\n",
      "47 прогін\n",
      "48 прогін\n",
      "49 прогін\n",
      "50 прогін\n",
      "51 прогін\n",
      "52 прогін\n",
      "53 прогін\n",
      "54 прогін\n",
      "55 прогін\n",
      "56 прогін\n",
      "57 прогін\n",
      "58 прогін\n",
      "59 прогін\n",
      "60 прогін\n",
      "61 прогін\n",
      "62 прогін\n",
      "63 прогін\n",
      "64 прогін\n",
      "65 прогін\n",
      "66 прогін\n",
      "67 прогін\n",
      "68 прогін\n",
      "69 прогін\n",
      "70 прогін\n",
      "71 прогін\n",
      "72 прогін\n",
      "73 прогін\n",
      "74 прогін\n",
      "75 прогін\n",
      "76 прогін\n",
      "77 прогін\n",
      "78 прогін\n",
      "79 прогін\n",
      "80 прогін\n",
      "81 прогін\n",
      "82 прогін\n",
      "83 прогін\n",
      "84 прогін\n",
      "85 прогін\n",
      "86 прогін\n",
      "87 прогін\n",
      "88 прогін\n",
      "89 прогін\n",
      "90 прогін\n",
      "91 прогін\n",
      "92 прогін\n",
      "93 прогін\n",
      "94 прогін\n",
      "95 прогін\n",
      "96 прогін\n",
      "97 прогін\n",
      "98 прогін\n",
      "99 прогін\n",
      "9 прогін\n",
      "4 прогін\n",
      "12 прогін\n",
      "13 прогін\n"
     ]
    }
   ],
   "source": [
    "with ThreadPoolExecutor(max_workers=5) as executor:\n",
    "    result = [executor.map(lambda i: print(f\"{i} прогін\"), range(100))]"
   ]
  }
 ],
 "metadata": {
  "kernelspec": {
   "display_name": "Python 3",
   "language": "python",
   "name": "python3"
  },
  "language_info": {
   "codemirror_mode": {
    "name": "ipython",
    "version": 3
   },
   "file_extension": ".py",
   "mimetype": "text/x-python",
   "name": "python",
   "nbconvert_exporter": "python",
   "pygments_lexer": "ipython3",
   "version": "3.13.7"
  }
 },
 "nbformat": 4,
 "nbformat_minor": 5
}
