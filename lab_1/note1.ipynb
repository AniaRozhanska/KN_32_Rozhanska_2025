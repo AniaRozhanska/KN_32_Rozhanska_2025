{
 "cells": [
  {
   "cell_type": "markdown",
   "id": "04704399",
   "metadata": {},
   "source": [
    "### Моя перша програма"
   ]
  },
  {
   "cell_type": "code",
   "execution_count": 1,
   "id": "56409776",
   "metadata": {},
   "outputs": [
    {
     "name": "stdout",
     "output_type": "stream",
     "text": [
      "Anna  start programming at 2025-09-23 17:56:25.297810. Ivano-Frankivsk is the best city!\n"
     ]
    }
   ],
   "source": [
    "from datetime import datetime\n",
    "name = \"Anna \"\n",
    "location = \"Ivano-Frankivsk\"\n",
    "\n",
    "print(f\"{name} start programming at {datetime.now()}. {location} is the best city!\")"
   ]
  }
 ],
 "metadata": {
  "kernelspec": {
   "display_name": "Python 3",
   "language": "python",
   "name": "python3"
  },
  "language_info": {
   "codemirror_mode": {
    "name": "ipython",
    "version": 3
   },
   "file_extension": ".py",
   "mimetype": "text/x-python",
   "name": "python",
   "nbconvert_exporter": "python",
   "pygments_lexer": "ipython3",
   "version": "3.13.7"
  }
 },
 "nbformat": 4,
 "nbformat_minor": 5
}
