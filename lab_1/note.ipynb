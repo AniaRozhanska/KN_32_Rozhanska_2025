{
 "cells": [
  {
   "cell_type": "markdown",
   "id": "a218be08",
   "metadata": {},
   "source": [
    "## Перша програма в інтерактивному режимі \n",
    "- проста програма яка чекає вводу з клавіатури та друкує виввід "
   ]
  },
  {
   "cell_type": "code",
   "execution_count": 7,
   "id": "afede115",
   "metadata": {},
   "outputs": [
    {
     "name": "stdout",
     "output_type": "stream",
     "text": [
      "Ви ввели: ввів Молодець!\n"
     ]
    }
   ],
   "source": [
    "user_input = input(\"Введіть щось: \")\n",
    "print(\"Ви ввели:\", user_input, \"Молодець!\") "
   ]
  },
  {
   "cell_type": "markdown",
   "id": "5126f101",
   "metadata": {},
   "source": [
    "## Пробуємо простий приклда матеатичної гри запропонований AI\n",
    "- ми модифікували гру з використанням випадкових чесел\n",
    "- додали форматування стрічок щоб підставити числа із зміних \n"
   ]
  },
  {
   "cell_type": "code",
   "execution_count": 8,
   "id": "6d1c6c50",
   "metadata": {},
   "outputs": [
    {
     "name": "stdout",
     "output_type": "stream",
     "text": [
      "Правильно!\n"
     ]
    }
   ],
   "source": [
    "import random\n",
    "a, b = random.randint(1, 10), random.randint(1, 10)\n",
    "answer = int(input(f\"Скільки буде {a} + {b}? Ваша відповідь: \"))\n",
    "if answer == a + b:\n",
    "    print(\"Правильно!\")\n",
    "else:\n",
    "    print(f\"Неправильно. Правильна відповідь: {a + b}\")"
   ]
  },
  {
   "cell_type": "code",
   "execution_count": null,
   "id": "bbecaf12",
   "metadata": {},
   "outputs": [],
   "source": []
  },
  {
   "cell_type": "code",
   "execution_count": null,
   "id": "d9ba7dbe",
   "metadata": {},
   "outputs": [],
   "source": []
  }
 ],
 "metadata": {
  "kernelspec": {
   "display_name": "Python 3",
   "language": "python",
   "name": "python3"
  },
  "language_info": {
   "codemirror_mode": {
    "name": "ipython",
    "version": 3
   },
   "file_extension": ".py",
   "mimetype": "text/x-python",
   "name": "python",
   "nbconvert_exporter": "python",
   "pygments_lexer": "ipython3",
   "version": "3.13.7"
  }
 },
 "nbformat": 4,
 "nbformat_minor": 5
}
